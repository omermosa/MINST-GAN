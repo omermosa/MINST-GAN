{
  "nbformat": 4,
  "nbformat_minor": 0,
  "metadata": {
    "colab": {
      "name": "MINST GAN.ipynb",
      "provenance": [],
      "collapsed_sections": [],
      "toc_visible": true,
      "mount_file_id": "12ECwK0LqX6zepnXBv5joYNwNKdVRZhPz",
      "authorship_tag": "ABX9TyMKL8uWmtVgutTHUIbPxDa+",
      "include_colab_link": true
    },
    "kernelspec": {
      "name": "python3",
      "display_name": "Python 3"
    },
    "accelerator": "GPU",
    "widgets": {
      "application/vnd.jupyter.widget-state+json": {
        "2b8800db4ea047e88fad68007954fda5": {
          "model_module": "@jupyter-widgets/controls",
          "model_name": "HBoxModel",
          "state": {
            "_view_name": "HBoxView",
            "_dom_classes": [],
            "_model_name": "HBoxModel",
            "_view_module": "@jupyter-widgets/controls",
            "_model_module_version": "1.5.0",
            "_view_count": null,
            "_view_module_version": "1.5.0",
            "box_style": "",
            "layout": "IPY_MODEL_258ea6d10b3b41e1a08e038d2af85172",
            "_model_module": "@jupyter-widgets/controls",
            "children": [
              "IPY_MODEL_9212b9cbb6be4439bc007ac257030007",
              "IPY_MODEL_adad0c8906af41bd81bb7babbc4a9a25"
            ]
          }
        },
        "258ea6d10b3b41e1a08e038d2af85172": {
          "model_module": "@jupyter-widgets/base",
          "model_name": "LayoutModel",
          "state": {
            "_view_name": "LayoutView",
            "grid_template_rows": null,
            "right": null,
            "justify_content": null,
            "_view_module": "@jupyter-widgets/base",
            "overflow": null,
            "_model_module_version": "1.2.0",
            "_view_count": null,
            "flex_flow": null,
            "width": null,
            "min_width": null,
            "border": null,
            "align_items": null,
            "bottom": null,
            "_model_module": "@jupyter-widgets/base",
            "top": null,
            "grid_column": null,
            "overflow_y": null,
            "overflow_x": null,
            "grid_auto_flow": null,
            "grid_area": null,
            "grid_template_columns": null,
            "flex": null,
            "_model_name": "LayoutModel",
            "justify_items": null,
            "grid_row": null,
            "max_height": null,
            "align_content": null,
            "visibility": null,
            "align_self": null,
            "height": null,
            "min_height": null,
            "padding": null,
            "grid_auto_rows": null,
            "grid_gap": null,
            "max_width": null,
            "order": null,
            "_view_module_version": "1.2.0",
            "grid_template_areas": null,
            "object_position": null,
            "object_fit": null,
            "grid_auto_columns": null,
            "margin": null,
            "display": null,
            "left": null
          }
        },
        "9212b9cbb6be4439bc007ac257030007": {
          "model_module": "@jupyter-widgets/controls",
          "model_name": "FloatProgressModel",
          "state": {
            "_view_name": "ProgressView",
            "style": "IPY_MODEL_1568643c7b174306acccfa3ddefcf905",
            "_dom_classes": [],
            "description": "100%",
            "_model_name": "FloatProgressModel",
            "bar_style": "success",
            "max": 50,
            "_view_module": "@jupyter-widgets/controls",
            "_model_module_version": "1.5.0",
            "value": 50,
            "_view_count": null,
            "_view_module_version": "1.5.0",
            "orientation": "horizontal",
            "min": 0,
            "description_tooltip": null,
            "_model_module": "@jupyter-widgets/controls",
            "layout": "IPY_MODEL_edb06a3981b449e6833002e67894ad6f"
          }
        },
        "adad0c8906af41bd81bb7babbc4a9a25": {
          "model_module": "@jupyter-widgets/controls",
          "model_name": "HTMLModel",
          "state": {
            "_view_name": "HTMLView",
            "style": "IPY_MODEL_0caad33ec4694a2596ea80eb1c3414f7",
            "_dom_classes": [],
            "description": "",
            "_model_name": "HTMLModel",
            "placeholder": "​",
            "_view_module": "@jupyter-widgets/controls",
            "_model_module_version": "1.5.0",
            "value": " 50/50 [23:16&lt;00:00, 27.92s/it]",
            "_view_count": null,
            "_view_module_version": "1.5.0",
            "description_tooltip": null,
            "_model_module": "@jupyter-widgets/controls",
            "layout": "IPY_MODEL_182102e18e4c463ca86df52f865016c1"
          }
        },
        "1568643c7b174306acccfa3ddefcf905": {
          "model_module": "@jupyter-widgets/controls",
          "model_name": "ProgressStyleModel",
          "state": {
            "_view_name": "StyleView",
            "_model_name": "ProgressStyleModel",
            "description_width": "initial",
            "_view_module": "@jupyter-widgets/base",
            "_model_module_version": "1.5.0",
            "_view_count": null,
            "_view_module_version": "1.2.0",
            "bar_color": null,
            "_model_module": "@jupyter-widgets/controls"
          }
        },
        "edb06a3981b449e6833002e67894ad6f": {
          "model_module": "@jupyter-widgets/base",
          "model_name": "LayoutModel",
          "state": {
            "_view_name": "LayoutView",
            "grid_template_rows": null,
            "right": null,
            "justify_content": null,
            "_view_module": "@jupyter-widgets/base",
            "overflow": null,
            "_model_module_version": "1.2.0",
            "_view_count": null,
            "flex_flow": null,
            "width": null,
            "min_width": null,
            "border": null,
            "align_items": null,
            "bottom": null,
            "_model_module": "@jupyter-widgets/base",
            "top": null,
            "grid_column": null,
            "overflow_y": null,
            "overflow_x": null,
            "grid_auto_flow": null,
            "grid_area": null,
            "grid_template_columns": null,
            "flex": null,
            "_model_name": "LayoutModel",
            "justify_items": null,
            "grid_row": null,
            "max_height": null,
            "align_content": null,
            "visibility": null,
            "align_self": null,
            "height": null,
            "min_height": null,
            "padding": null,
            "grid_auto_rows": null,
            "grid_gap": null,
            "max_width": null,
            "order": null,
            "_view_module_version": "1.2.0",
            "grid_template_areas": null,
            "object_position": null,
            "object_fit": null,
            "grid_auto_columns": null,
            "margin": null,
            "display": null,
            "left": null
          }
        },
        "0caad33ec4694a2596ea80eb1c3414f7": {
          "model_module": "@jupyter-widgets/controls",
          "model_name": "DescriptionStyleModel",
          "state": {
            "_view_name": "StyleView",
            "_model_name": "DescriptionStyleModel",
            "description_width": "",
            "_view_module": "@jupyter-widgets/base",
            "_model_module_version": "1.5.0",
            "_view_count": null,
            "_view_module_version": "1.2.0",
            "_model_module": "@jupyter-widgets/controls"
          }
        },
        "182102e18e4c463ca86df52f865016c1": {
          "model_module": "@jupyter-widgets/base",
          "model_name": "LayoutModel",
          "state": {
            "_view_name": "LayoutView",
            "grid_template_rows": null,
            "right": null,
            "justify_content": null,
            "_view_module": "@jupyter-widgets/base",
            "overflow": null,
            "_model_module_version": "1.2.0",
            "_view_count": null,
            "flex_flow": null,
            "width": null,
            "min_width": null,
            "border": null,
            "align_items": null,
            "bottom": null,
            "_model_module": "@jupyter-widgets/base",
            "top": null,
            "grid_column": null,
            "overflow_y": null,
            "overflow_x": null,
            "grid_auto_flow": null,
            "grid_area": null,
            "grid_template_columns": null,
            "flex": null,
            "_model_name": "LayoutModel",
            "justify_items": null,
            "grid_row": null,
            "max_height": null,
            "align_content": null,
            "visibility": null,
            "align_self": null,
            "height": null,
            "min_height": null,
            "padding": null,
            "grid_auto_rows": null,
            "grid_gap": null,
            "max_width": null,
            "order": null,
            "_view_module_version": "1.2.0",
            "grid_template_areas": null,
            "object_position": null,
            "object_fit": null,
            "grid_auto_columns": null,
            "margin": null,
            "display": null,
            "left": null
          }
        }
      }
    }
  },
  "cells": [
    {
      "cell_type": "markdown",
      "metadata": {
        "id": "view-in-github",
        "colab_type": "text"
      },
      "source": [
        "<a href=\"https://colab.research.google.com/github/omermosa/MINST-GAN/blob/main/MINST_GAN.ipynb\" target=\"_parent\"><img src=\"https://colab.research.google.com/assets/colab-badge.svg\" alt=\"Open In Colab\"/></a>"
      ]
    },
    {
      "cell_type": "code",
      "metadata": {
        "id": "amkVkeRJgiLq"
      },
      "source": [
        "import tensorflow as tf\n",
        "keras=tf.keras"
      ],
      "execution_count": null,
      "outputs": []
    },
    {
      "cell_type": "code",
      "metadata": {
        "id": "uL1v3k7wgpGn"
      },
      "source": [
        "import numpy as np"
      ],
      "execution_count": null,
      "outputs": []
    },
    {
      "cell_type": "code",
      "metadata": {
        "id": "hfKYDAHlgqGp"
      },
      "source": [
        "(x_tr,y_tr),(x_t,y_t)=tf.keras.datasets.mnist.load_data()"
      ],
      "execution_count": null,
      "outputs": []
    },
    {
      "cell_type": "code",
      "metadata": {
        "id": "U42qqUwDg0XH"
      },
      "source": [
        "x_tr, y_tr,x_t,y_t=tf.convert_to_tensor(x_tr),tf.convert_to_tensor(y_tr),tf.convert_to_tensor(x_t),tf.convert_to_tensor(y_t)"
      ],
      "execution_count": null,
      "outputs": []
    },
    {
      "cell_type": "code",
      "metadata": {
        "id": "omT6Kj85w18M",
        "colab": {
          "base_uri": "https://localhost:8080/"
        },
        "outputId": "b2bf9107-f953-402e-ef23-5431d5514e4f"
      },
      "source": [
        "np.random.normal()"
      ],
      "execution_count": null,
      "outputs": [
        {
          "output_type": "execute_result",
          "data": {
            "text/plain": [
              "0.06675840269680325"
            ]
          },
          "metadata": {
            "tags": []
          },
          "execution_count": 5
        }
      ]
    },
    {
      "cell_type": "code",
      "metadata": {
        "id": "aYNHHfaClukC"
      },
      "source": [
        "def noise_vals(*shape):\n",
        "  return tf.random.normal(shape,0,1)"
      ],
      "execution_count": null,
      "outputs": []
    },
    {
      "cell_type": "code",
      "metadata": {
        "id": "97f5XZsrvEND"
      },
      "source": [
        "class discriminator(object):\n",
        "  def __init__(self,m,img_dim):\n",
        "    self.m=m\n",
        "    self.img_dim=img_dim\n",
        "\n",
        "  def gen_block(self,inp,i):\n",
        "    x=keras.layers.Dense(2**(11-i),activation='relu')(inp)\n",
        "    #x=keras.layers.LeakyReLU(0.2)(x)\n",
        "    #x=keras.layers.BatchNormalization()(x)\n",
        "    x=keras.layers.Dropout(0.3)(x)\n",
        "    return x\n",
        "  \n",
        "  def disc_model(self,n_layers):\n",
        "    #inp=keras.layers.Input(self.img_dim)\n",
        "    #x=inp\n",
        "    #for i in range(1,n_layers+1):\n",
        "    #  x=self.gen_block(x,i)\n",
        "    disc_model=keras.models.Sequential()\n",
        "    disc_model.add(keras.layers.Dense(1024,input_shape=(self.img_dim,),activation='relu'))\n",
        "    disc_model.add(keras.layers.Dropout(0.3))\n",
        "\n",
        "    disc_model.add(keras.layers.Dense(512,activation='relu'))\n",
        "    disc_model.add(keras.layers.Dropout(0.3))\n",
        "    disc_model.add(keras.layers.Dense(256,activation='relu'))\n",
        "    disc_model.add(keras.layers.Dropout(0.3))\n",
        "\n",
        "    disc_model.add(keras.layers.Dense(1,activation='sigmoid'))\n",
        "    disc_model.compile(optimizer=keras.optimizers.Adam(lr=0.0002,beta_1=0.5),loss='binary_crossentropy',metrics=['accuracy'])\n",
        "\n",
        " #   x=keras.layers.Dense(1,activation='sigmoid')(x)\n",
        "    \n",
        "    return disc_model"
      ],
      "execution_count": null,
      "outputs": []
    },
    {
      "cell_type": "code",
      "metadata": {
        "id": "-BIRdPcng1bS"
      },
      "source": [
        "class generator(object):\n",
        "  def __init__(self,m,img_dim,noise=30):\n",
        "    self.m=m\n",
        "    self.img_dim=img_dim\n",
        "    self.noise=noise\n",
        "\n",
        "  def gen_block(self,inp,i):\n",
        "    x=keras.layers.Dense(2**(i+7),activation='relu')(inp)\n",
        "    #x=keras.layers.LeakyReLU(0.2)(x)\n",
        "    #x=keras.layers.BatchNormalization()(x)\n",
        "    #x=keras.layers.Dropout(0.3)(x)\n",
        "    return x\n",
        "  \n",
        "  def generator_model(self,n_layers):\n",
        "    #inp=keras.layers.Input(self.noise)\n",
        "    #x=inp\n",
        "    #for i in range(1,n_layers+1):\n",
        "     # x=self.gen_block(x,i)\n",
        "    gen_model=keras.models.Sequential()\n",
        "    gen_model.add(keras.layers.Dense(256,input_shape=(self.noise,),activation='relu'))\n",
        "    gen_model.add(keras.layers.Dense(512,activation='relu'))\n",
        "\n",
        "    gen_model.add(keras.layers.Dense(1024,activation='relu'))\n",
        "    gen_model.add(keras.layers.Dense(self.img_dim,activation='sigmoid'))\n",
        "    gen_model.compile(optimizer=keras.optimizers.Adam(lr=0.0002,beta_1=0.5),loss='binary_crossentropy',metrics=['accuracy'])\n",
        "\n",
        "    #x=keras.layers.Dense(self.img_dim,activation='sigmoid')(x)\n",
        "    \n",
        "    return gen_model\n",
        "  \n"
      ],
      "execution_count": null,
      "outputs": []
    },
    {
      "cell_type": "code",
      "metadata": {
        "id": "JZ19ld72tjem"
      },
      "source": [
        "gen_model=generator(x_tr.shape[0],x_tr.shape[1]**2,100).generator_model(3)\n",
        "disc_model=discriminator(x_tr.shape[0],x_tr.shape[1]**2).disc_model(3)"
      ],
      "execution_count": null,
      "outputs": []
    },
    {
      "cell_type": "code",
      "metadata": {
        "id": "4TDMUGaguEdV"
      },
      "source": [
        "disc_model.trainable=False\n",
        "inp=keras.layers.Input(100)\n",
        "g=gen_model(inp)\n",
        "d=disc_model(g)\n",
        "gan=keras.Model(inp,d)"
      ],
      "execution_count": null,
      "outputs": []
    },
    {
      "cell_type": "code",
      "metadata": {
        "id": "1mLllrlhS0kD"
      },
      "source": [
        ""
      ],
      "execution_count": null,
      "outputs": []
    },
    {
      "cell_type": "code",
      "metadata": {
        "id": "HSvK9G-VRl3D"
      },
      "source": [
        "gan.compile(optimizer=keras.optimizers.Adam(lr=0.0002,beta_1=0.5),loss='binary_crossentropy',metrics=['accuracy'])"
      ],
      "execution_count": null,
      "outputs": []
    },
    {
      "cell_type": "code",
      "metadata": {
        "id": "gpfefaIdfXC7",
        "colab": {
          "base_uri": "https://localhost:8080/",
          "height": 758
        },
        "outputId": "5272749f-def1-4340-f64a-9dc406962813"
      },
      "source": [
        "keras.utils.plot_model(disc_model)"
      ],
      "execution_count": null,
      "outputs": [
        {
          "output_type": "execute_result",
          "data": {
            "image/png": "[encoded data removed]",
            "text/plain": [
              "<IPython.core.display.Image object>"
            ]
          },
          "metadata": {
            "tags": []
          },
          "execution_count": 12
        }
      ]
    },
    {
      "cell_type": "code",
      "metadata": {
        "id": "sMztL-h6mWRS",
        "colab": {
          "base_uri": "https://localhost:8080/"
        },
        "outputId": "becc2cca-2829-4869-8686-c7d54965b836"
      },
      "source": [
        "gen_model.summary()"
      ],
      "execution_count": null,
      "outputs": [
        {
          "output_type": "stream",
          "text": [
            "Model: \"sequential\"\n",
            "_________________________________________________________________\n",
            "Layer (type)                 Output Shape              Param #   \n",
            "=================================================================\n",
            "dense (Dense)                (None, 256)               25856     \n",
            "_________________________________________________________________\n",
            "dense_1 (Dense)              (None, 512)               131584    \n",
            "_________________________________________________________________\n",
            "dense_2 (Dense)              (None, 1024)              525312    \n",
            "_________________________________________________________________\n",
            "dense_3 (Dense)              (None, 784)               803600    \n",
            "=================================================================\n",
            "Total params: 1,486,352\n",
            "Trainable params: 1,486,352\n",
            "Non-trainable params: 0\n",
            "_________________________________________________________________\n"
          ],
          "name": "stdout"
        }
      ]
    },
    {
      "cell_type": "code",
      "metadata": {
        "id": "XQNG7QwQS-u8"
      },
      "source": [
        "from tqdm import tqdm_notebook as tqdm"
      ],
      "execution_count": null,
      "outputs": []
    },
    {
      "cell_type": "code",
      "metadata": {
        "id": "EqTDsdwJjcee"
      },
      "source": [
        "x_tr=tf.cast(x_tr,dtype=tf.float32)\n",
        "x_tr/=255"
      ],
      "execution_count": null,
      "outputs": []
    },
    {
      "cell_type": "code",
      "metadata": {
        "id": "a6jXT0EIm6QD",
        "colab": {
          "base_uri": "https://localhost:8080/",
          "height": 282
        },
        "outputId": "1aa96341-b52b-4044-fb13-a77c5c515d69"
      },
      "source": [
        "\n",
        "import matplotlib.pyplot as plt\n",
        "\n",
        "plt.imshow(x_tr[0],vmax=1,vmin=0)"
      ],
      "execution_count": null,
      "outputs": [
        {
          "output_type": "execute_result",
          "data": {
            "text/plain": [
              "<matplotlib.image.AxesImage at 0x7fcec01df780>"
            ]
          },
          "metadata": {
            "tags": []
          },
          "execution_count": 16
        },
        {
          "output_type": "display_data",
          "data": {
            "image/png": "[encoded data removed]",
            "text/plain": [
              "<Figure size 432x288 with 1 Axes>"
            ]
          },
          "metadata": {
            "tags": [],
            "needs_background": "light"
          }
        }
      ]
    },
    {
      "cell_type": "code",
      "metadata": {
        "id": "YT7hyCQ-24Zu"
      },
      "source": [
        "def plot(gen_model):\n",
        "  noise=noise_vals(*(10,100))\n",
        "  gen_imgs=gen_model(noise)\n",
        "  plt.figure(figsize=(12,12))\n",
        "  for i in range(10):\n",
        "    plt.subplot(1,10,i+1)\n",
        "    plt.imshow(tf.reshape(gen_imgs[i],(28,28)),vmax=1,vmin=0, interpolation='nearest', cmap='gray_r')\n",
        "    plt.axis('off')\n",
        "\n",
        "  plt.show()\n",
        "\n",
        "\n"
      ],
      "execution_count": null,
      "outputs": []
    },
    {
      "cell_type": "markdown",
      "metadata": {
        "id": "_sBMttFvfkE0"
      },
      "source": [
        "## Train the GAN"
      ]
    },
    {
      "cell_type": "code",
      "metadata": {
        "id": "EYDnu8QO2xpi",
        "colab": {
          "base_uri": "https://localhost:8080/",
          "height": 467,
          "referenced_widgets": [
            "2b8800db4ea047e88fad68007954fda5",
            "258ea6d10b3b41e1a08e038d2af85172",
            "9212b9cbb6be4439bc007ac257030007",
            "adad0c8906af41bd81bb7babbc4a9a25",
            "1568643c7b174306acccfa3ddefcf905",
            "edb06a3981b449e6833002e67894ad6f",
            "0caad33ec4694a2596ea80eb1c3414f7",
            "182102e18e4c463ca86df52f865016c1"
          ]
        },
        "outputId": "e154eae5-9e2f-434e-9634-dc4a1727be54"
      },
      "source": [
        "for i in tqdm(range(50)):\n",
        "  batch_size=32\n",
        "  n_baches=x_tr.shape[0]//batch_size\n",
        "  for b in (range(n_baches-1)):\n",
        "    batch=x_tr[b*batch_size:(b+1)*batch_size]\n",
        "    bs=batch.shape[0]\n",
        "    noise=noise_vals(*(batch.shape[0],100))\n",
        "    gen_imgs=gen_model(noise)\n",
        "    disc_model.trainable=True\n",
        "    #ytrue=tf.ones((batch.shape[0],1))\n",
        "    #disc_model.train_on_batch(tf.reshape(batch,(bs,-1)),ytrue)\n",
        "    ytrue=np.zeros((batch.shape[0]*2,1))\n",
        "    ytrue[bs:]=1\n",
        "    X=tf.concat((gen_imgs,tf.reshape(batch,(bs,-1))),axis=0)\n",
        "    dl=disc_model.train_on_batch(X,ytrue)\n",
        "    disc_model.trainable=False\n",
        "    noise=noise_vals(*(batch.shape[0],100))\n",
        "    y=tf.ones((batch.shape[0],1))\n",
        "    gl=gan.train_on_batch(noise,y)\n",
        "  if i%15==0:\n",
        "    plot(gen_model)\n",
        "    print('dl', dl,'gl',gl)\n",
        "\n",
        "\n",
        "\n",
        "\n",
        "\n"
      ],
      "execution_count": null,
      "outputs": [
        {
          "output_type": "stream",
          "text": [
            "/usr/local/lib/python3.6/dist-packages/ipykernel_launcher.py:1: TqdmDeprecationWarning: This function will be removed in tqdm==5.0.0\n",
            "Please use `tqdm.notebook.tqdm` instead of `tqdm.tqdm_notebook`\n",
            "  \"\"\"Entry point for launching an IPython kernel.\n"
          ],
          "name": "stderr"
        },
        {
          "output_type": "display_data",
          "data": {
            "application/vnd.jupyter.widget-view+json": {
              "model_id": "2b8800db4ea047e88fad68007954fda5",
              "version_minor": 0,
              "version_major": 2
            },
            "text/plain": [
              "HBox(children=(FloatProgress(value=0.0, max=50.0), HTML(value='')))"
            ]
          },
          "metadata": {
            "tags": []
          }
        },
        {
          "output_type": "display_data",
          "data": {
            "image/png": "[encoded data removed]",
            "text/plain": [
              "<Figure size 864x864 with 10 Axes>"
            ]
          },
          "metadata": {
            "tags": [],
            "needs_background": "light"
          }
        },
        {
          "output_type": "stream",
          "text": [
            "dl [0.4028461277484894, 0.828125] gl [2.5043656826019287, 0.09375]\n"
          ],
          "name": "stdout"
        },
        {
          "output_type": "display_data",
          "data": {
            "image/png": "[encoded data removed]",
            "text/plain": [
              "<Figure size 864x864 with 10 Axes>"
            ]
          },
          "metadata": {
            "tags": [],
            "needs_background": "light"
          }
        },
        {
          "output_type": "stream",
          "text": [
            "dl [0.38855764269828796, 0.828125] gl [1.7056360244750977, 0.1875]\n"
          ],
          "name": "stdout"
        },
        {
          "output_type": "display_data",
          "data": {
            "image/png": "[encoded data removed]",
            "text/plain": [
              "<Figure size 864x864 with 10 Axes>"
            ]
          },
          "metadata": {
            "tags": [],
            "needs_background": "light"
          }
        },
        {
          "output_type": "stream",
          "text": [
            "dl [0.29200729727745056, 0.875] gl [2.0952634811401367, 0.15625]\n"
          ],
          "name": "stdout"
        },
        {
          "output_type": "display_data",
          "data": {
            "image/png": "[encoded data removed]",
            "text/plain": [
              "<Figure size 864x864 with 10 Axes>"
            ]
          },
          "metadata": {
            "tags": [],
            "needs_background": "light"
          }
        },
        {
          "output_type": "stream",
          "text": [
            "dl [0.26420533657073975, 0.90625] gl [1.9616529941558838, 0.15625]\n",
            "\n"
          ],
          "name": "stdout"
        }
      ]
    },
    {
      "cell_type": "code",
      "metadata": {
        "id": "-ZH-n1YGTqUj"
      },
      "source": [
        "keras.models.save_model(gen_model,'gen.h5')"
      ],
      "execution_count": null,
      "outputs": []
    },
    {
      "cell_type": "code",
      "metadata": {
        "id": "iRVRilyVUeH2"
      },
      "source": [
        "noise=np.random.randn(10,100)"
      ],
      "execution_count": null,
      "outputs": []
    },
    {
      "cell_type": "code",
      "metadata": {
        "id": "1vXMhKCRUwPO"
      },
      "source": [
        "gen_imgs=gen_model(noise)"
      ],
      "execution_count": null,
      "outputs": []
    },
    {
      "cell_type": "code",
      "metadata": {
        "id": "Z5-9smA6UmOI",
        "colab": {
          "base_uri": "https://localhost:8080/",
          "height": 88
        },
        "outputId": "85f4925e-ecd7-45b9-807a-572463b241dd"
      },
      "source": [
        "plt.figure(figsize=(12,12))\n",
        "for i in range(10):\n",
        "  plt.subplot(1,10,i+1)\n",
        "  plt.imshow(tf.reshape(gen_imgs[i],(28,28)),vmax=1,vmin=0, interpolation='nearest', cmap='gray_r')\n",
        "  plt.axis('off')\n",
        "\n",
        "plt.show()"
      ],
      "execution_count": null,
      "outputs": [
        {
          "output_type": "display_data",
          "data": {
            "image/png": "[encoded data removed]",
            "text/plain": [
              "<Figure size 864x864 with 10 Axes>"
            ]
          },
          "metadata": {
            "tags": [],
            "needs_background": "light"
          }
        }
      ]
    },
    {
      "cell_type": "code",
      "metadata": {
        "id": "7fqjZlc2UOKk"
      },
      "source": [
        "!cp -r /content/gen.h5 /content/drive/My\\ Drive/TF\\ Codes/MINST\\ GAN"
      ],
      "execution_count": null,
      "outputs": []
    },
    {
      "cell_type": "code",
      "metadata": {
        "id": "uCK1-mKBI0L7",
        "colab": {
          "base_uri": "https://localhost:8080/"
        },
        "outputId": "71667cef-31f6-4f25-da0a-140c1008c73f"
      },
      "source": [
        "noise=noise_vals(*(1,100))\n",
        "tf.reshape(gen_model(noise),(28,28))*255"
      ],
      "execution_count": null,
      "outputs": [
        {
          "output_type": "execute_result",
          "data": {
            "text/plain": [
              "<tf.Tensor: shape=(28, 28), dtype=float32, numpy=\n",
              "array([[6.99317756e-11, 2.83444004e-13, 2.73563724e-12, 5.30149752e-12,\n",
              "        2.04162620e-12, 3.60679390e-12, 1.49731460e-11, 2.54517275e-11,\n",
              "        4.79680878e-12, 3.11246688e-12, 9.24654884e-12, 1.25898966e-13,\n",
              "        1.77860534e-13, 1.53651935e-11, 1.33523886e-11, 1.64448403e-12,\n",
              "        8.11745463e-12, 2.11745638e-11, 1.63163753e-11, 1.03491803e-12,\n",
              "        1.85735534e-08, 1.80195980e-11, 2.22374879e-11, 8.56326468e-12,\n",
              "        3.05552424e-11, 1.52481812e-11, 1.24906888e-12, 9.96707664e-12],\n",
              "       [1.19967181e-09, 7.84006887e-12, 3.69655521e-12, 8.23614939e-13,\n",
              "        2.34184894e-11, 2.02519728e-12, 1.82428204e-12, 2.03390429e-11,\n",
              "        7.61176278e-09, 3.61846178e-11, 4.34521478e-13, 5.64082669e-10,\n",
              "        2.70604360e-14, 1.98884975e-09, 7.68047210e-15, 1.84772720e-15,\n",
              "        1.12210637e-15, 1.25790759e-16, 3.33833091e-15, 7.82219172e-15,\n",
              "        8.55940210e-14, 4.64933918e-13, 6.38545994e-10, 5.83964265e-07,\n",
              "        3.06352318e-12, 5.10653369e-13, 6.20260024e-11, 6.14056202e-12],\n",
              "       [1.12243342e-12, 2.64090160e-12, 4.61144447e-12, 2.74142781e-06,\n",
              "        1.31940622e+01, 9.88844354e-11, 5.82982621e-11, 1.30966427e-09,\n",
              "        2.29970405e-12, 2.19132115e-10, 2.48833766e-12, 2.46462930e-17,\n",
              "        7.59622290e-18, 3.99115130e-21, 3.25885757e-24, 4.78353249e-20,\n",
              "        1.01669488e-20, 5.80751772e-19, 2.77863183e-20, 3.10091983e-22,\n",
              "        1.66850239e-19, 5.20775460e-18, 1.03946180e-24, 9.78638727e-19,\n",
              "        3.24382188e-11, 4.28939162e-10, 1.91762296e-12, 1.77384721e-11],\n",
              "       [2.11293795e-11, 2.17845447e-12, 2.94028287e-05, 1.53874478e-08,\n",
              "        4.16729096e-09, 2.29875823e-11, 1.33923608e-14, 1.04246789e-09,\n",
              "        6.21949228e-11, 1.74876105e-13, 2.30393173e-16, 1.71972711e-19,\n",
              "        7.47961348e-21, 3.07423108e-22, 3.20456619e-24, 2.00880179e-26,\n",
              "        9.43959202e-27, 3.58268091e-23, 3.76415014e-25, 5.90336355e-26,\n",
              "        2.16140443e-25, 1.80498426e-25, 2.47218974e-25, 1.60807876e-23,\n",
              "        2.26407971e-24, 1.06750058e-13, 7.19149185e-11, 2.12680568e-12],\n",
              "       [1.12332188e-09, 9.12597359e-11, 4.82377629e-07, 2.04854729e-07,\n",
              "        3.89373118e-14, 5.42283951e-09, 5.73053105e-10, 1.01997761e-12,\n",
              "        8.13568158e-16, 1.89483811e-15, 2.41705649e-20, 1.50348615e-24,\n",
              "        5.14142868e-26, 2.34507971e-27, 2.31166856e-32, 6.21941333e-36,\n",
              "        2.01105445e-35, 5.68491675e-36, 1.73338609e-35, 6.74666534e-33,\n",
              "        2.77169418e-30, 5.21404895e-28, 5.23881664e-26, 1.84620923e-26,\n",
              "        4.60685381e-24, 3.11637140e-22, 8.51936252e-15, 1.55816355e-08],\n",
              "       [1.57351510e-11, 7.81848308e-10, 8.96470556e-06, 9.56068644e-12,\n",
              "        3.53380125e-09, 3.82652932e-09, 1.23364188e-07, 7.25873324e-05,\n",
              "        8.67218296e-06, 5.68047381e-06, 1.87346290e-04, 2.39859913e-02,\n",
              "        3.85729969e-02, 1.35425791e-01, 4.58780071e-03, 3.93170485e-04,\n",
              "        4.07397056e-06, 1.38749712e-07, 3.23224413e-06, 7.91437003e-07,\n",
              "        3.90077139e-06, 2.85467777e-05, 2.98160398e-06, 1.24821098e-09,\n",
              "        3.84206977e-09, 1.72415877e-14, 1.95895919e-14, 1.74810433e-09],\n",
              "       [4.90507843e-11, 3.11848076e-08, 1.99908298e-10, 2.37693865e-09,\n",
              "        9.52211631e-05, 2.45486644e-05, 1.13797236e-04, 6.37098076e-03,\n",
              "        1.06025338e+00, 5.31357527e-01, 1.08750510e+00, 2.85452819e+00,\n",
              "        5.68160295e+00, 6.89273405e+00, 1.13444145e+02, 1.33589239e+01,\n",
              "        6.54061213e-02, 1.11467363e-02, 5.03105260e-02, 6.78113550e-02,\n",
              "        5.25964387e-02, 1.68223977e-02, 1.82673149e-02, 2.26730372e-05,\n",
              "        6.97669407e-08, 5.17719256e-10, 8.92034883e-12, 1.12087506e-10],\n",
              "       [1.97347477e-12, 1.08491349e-09, 4.52630047e-05, 2.33545916e-09,\n",
              "        4.57464281e-04, 1.97063740e-02, 1.24336202e-02, 1.44713417e-01,\n",
              "        4.16240978e+00, 6.67160492e+01, 1.30009232e+02, 2.47468002e+02,\n",
              "        2.52204712e+02, 2.54825851e+02, 2.54410934e+02, 2.08099503e+02,\n",
              "        4.83495979e+01, 1.22263802e+02, 1.73169724e+02, 4.52698479e+01,\n",
              "        1.75826473e+01, 2.33704233e+00, 7.43043199e-02, 4.72827395e-03,\n",
              "        3.19589731e-06, 6.14480855e-10, 7.96911218e-11, 1.08432296e-07],\n",
              "       [6.35105753e-05, 2.59458479e-11, 2.46988041e-10, 1.23670354e-04,\n",
              "        1.49915656e-02, 3.49910813e-03, 4.12177928e-02, 8.46450424e+00,\n",
              "        8.83318634e+01, 2.13805008e+02, 2.52182480e+02, 2.52771835e+02,\n",
              "        2.53887772e+02, 2.54998032e+02, 2.54998322e+02, 2.54974823e+02,\n",
              "        2.54978989e+02, 2.54977753e+02, 2.54551376e+02, 2.43445938e+02,\n",
              "        2.22047012e+02, 7.59777498e+00, 1.88831985e+00, 8.53329971e-02,\n",
              "        7.14689231e-05, 1.20516290e-08, 1.59255129e-12, 1.58303815e-09],\n",
              "       [2.62838695e-10, 5.83686433e-09, 4.81053808e-10, 8.37038178e-03,\n",
              "        2.38507777e-03, 3.29893865e-02, 3.73131981e+01, 2.36392502e+02,\n",
              "        2.51915497e+02, 2.45676682e+02, 2.52712463e+02, 2.50428192e+02,\n",
              "        2.54765808e+02, 2.54995407e+02, 2.54989487e+02, 2.54994171e+02,\n",
              "        2.54993561e+02, 2.54970093e+02, 2.54962524e+02, 2.53149200e+02,\n",
              "        2.54696808e+02, 2.50715454e+02, 7.53873062e+01, 1.53063452e+00,\n",
              "        2.06714892e-03, 1.76087855e-08, 4.73207020e-12, 9.13566878e-12],\n",
              "       [7.74969688e-14, 1.05627072e-08, 5.79300106e-12, 4.27567353e-03,\n",
              "        7.77118048e-03, 2.32750244e+01, 2.41089752e+02, 2.54330658e+02,\n",
              "        2.54885498e+02, 2.53765900e+02, 2.34913467e+02, 2.28288025e+02,\n",
              "        2.38894440e+02, 2.54046692e+02, 2.54790115e+02, 2.54652222e+02,\n",
              "        2.52952042e+02, 2.43780930e+02, 2.41906479e+02, 2.49142197e+02,\n",
              "        2.54973343e+02, 2.54975006e+02, 2.48501022e+02, 1.71729755e+01,\n",
              "        1.53802885e-02, 5.66306699e-06, 4.75669425e-04, 4.99851076e-08],\n",
              "       [1.02060877e-11, 1.25493854e-12, 2.65298468e-07, 3.34543874e-05,\n",
              "        3.84217680e-01, 1.16592796e+02, 2.49713654e+02, 2.54614212e+02,\n",
              "        2.54880875e+02, 1.12955338e+02, 1.45191069e+01, 6.13607550e+00,\n",
              "        1.64104974e+00, 8.99995518e+00, 9.60233536e+01, 6.12280540e+01,\n",
              "        1.03997284e+02, 7.75117722e+01, 6.94216537e+01, 2.09664841e+02,\n",
              "        2.52231552e+02, 2.54962128e+02, 2.54519638e+02, 6.27141647e+01,\n",
              "        3.69022429e-01, 6.39300633e-05, 6.05935056e-04, 5.33908096e-13],\n",
              "       [1.20443434e-12, 9.90849458e-07, 2.59614663e-09, 9.76478532e-06,\n",
              "        6.68359637e-01, 2.17265320e+02, 2.52469070e+02, 2.54790878e+02,\n",
              "        7.85609131e+01, 6.81490469e+00, 2.01910543e+00, 2.14483384e-02,\n",
              "        4.91792196e-03, 1.39287245e-02, 7.00280592e-02, 1.20524898e-01,\n",
              "        2.31479079e-01, 3.21537405e-02, 9.87092197e-01, 2.00290546e+01,\n",
              "        2.17535553e+02, 2.54102798e+02, 2.54078629e+02, 1.92098343e+02,\n",
              "        2.27423024e+00, 7.12742440e-06, 9.78062005e-08, 1.10714198e-11],\n",
              "       [3.71527001e-13, 4.36939196e-09, 4.68987515e-08, 7.56037887e-04,\n",
              "        1.62562752e+01, 2.16628098e+02, 2.53990677e+02, 2.54676178e+02,\n",
              "        1.12260521e+02, 3.98120856e+00, 9.39641595e-02, 1.30270433e-03,\n",
              "        1.30097527e-04, 1.03876321e-03, 2.99692620e-04, 8.85310219e-05,\n",
              "        8.29772980e-05, 5.38101536e-04, 7.24190148e-03, 2.07723469e-01,\n",
              "        2.17248764e+02, 2.54501862e+02, 2.54968750e+02, 2.53749481e+02,\n",
              "        8.88346291e+00, 1.16758425e-09, 1.77605528e-10, 2.46605469e-09],\n",
              "       [2.55167276e-10, 1.48053181e-10, 4.81553298e-06, 8.91202013e-04,\n",
              "        1.21932602e+02, 2.52688919e+02, 2.54732407e+02, 2.50977951e+02,\n",
              "        4.34391642e+00, 2.40354016e-01, 5.05294576e-02, 3.72326613e-04,\n",
              "        3.40624712e-04, 3.78114841e-04, 5.36991975e-05, 1.89519080e-04,\n",
              "        2.51372345e-04, 4.78515867e-04, 4.78752237e-03, 1.08636653e+00,\n",
              "        1.73586563e+02, 2.54037430e+02, 2.54940338e+02, 2.54845703e+02,\n",
              "        1.40275974e+01, 1.08117604e-06, 5.61290042e-14, 3.49920722e-12],\n",
              "       [8.88192986e-08, 1.84928947e-11, 2.08207871e-06, 3.32893592e-06,\n",
              "        1.75623291e+02, 2.54703171e+02, 2.54797470e+02, 2.52502136e+02,\n",
              "        3.54161787e+00, 6.54039383e-02, 6.34224713e-03, 7.60407536e-04,\n",
              "        8.23977098e-05, 2.82300243e-05, 4.67666541e-04, 1.80957764e-02,\n",
              "        2.64538132e-04, 4.62967582e-04, 5.93880042e-02, 6.31580305e+00,\n",
              "        2.00674149e+02, 2.51858810e+02, 2.54997391e+02, 2.54539291e+02,\n",
              "        3.64625239e+00, 3.95791311e-08, 1.40466035e-12, 1.49981727e-09],\n",
              "       [5.30407218e-10, 8.79124384e-10, 6.39672426e-10, 3.34276956e-05,\n",
              "        2.48330093e+02, 2.54578094e+02, 2.52904816e+02, 2.52300339e+02,\n",
              "        4.65091801e+00, 3.63034010e-02, 2.01367191e-03, 1.06917450e-03,\n",
              "        5.03031712e-04, 1.34729620e-04, 6.13320328e-04, 4.13753800e-02,\n",
              "        1.30100459e-01, 7.05177009e-01, 7.03023624e+00, 8.58248291e+01,\n",
              "        2.44888184e+02, 2.54721466e+02, 2.54983154e+02, 2.43798752e+02,\n",
              "        9.41342473e-01, 4.97594328e-06, 1.22112553e-09, 1.27525490e-09],\n",
              "       [3.68894802e-12, 5.56406654e-08, 1.33628741e-09, 3.85606154e-06,\n",
              "        9.58127441e+01, 2.52588211e+02, 2.54837570e+02, 2.53710388e+02,\n",
              "        3.37108307e+01, 5.84092662e-02, 5.12735266e-03, 1.98952109e-02,\n",
              "        2.65372405e-03, 3.24470777e-04, 1.33124664e-02, 5.26977368e-02,\n",
              "        1.62012130e-01, 2.26758862e+01, 8.94547424e+01, 2.39592484e+02,\n",
              "        2.52746002e+02, 2.54612534e+02, 2.46107666e+02, 1.27581360e+02,\n",
              "        6.11245751e-01, 1.86194981e-07, 7.45900841e-11, 1.45189991e-12],\n",
              "       [2.19337894e-13, 3.56550835e-12, 1.52729374e-09, 9.70562155e-07,\n",
              "        5.04502068e+01, 1.90306610e+02, 2.54590912e+02, 2.54620758e+02,\n",
              "        2.03567734e+02, 3.78611221e+01, 1.38412505e-01, 6.58147454e-01,\n",
              "        7.29519501e-02, 4.74251248e-03, 1.18325926e-01, 4.47139931e+00,\n",
              "        1.05873795e+02, 2.21877411e+02, 2.52524155e+02, 2.54535568e+02,\n",
              "        2.53258896e+02, 2.53576752e+02, 7.33427658e+01, 3.45708609e+00,\n",
              "        1.94321331e-02, 2.34938664e-08, 5.17420863e-11, 1.83733029e-09],\n",
              "       [1.40605774e-11, 6.19495288e-10, 5.68782868e-12, 9.47267011e-08,\n",
              "        3.87976189e+01, 2.06208801e+02, 2.51969803e+02, 2.51999893e+02,\n",
              "        2.52255875e+02, 5.85698738e+01, 9.45134830e+00, 5.71525192e+00,\n",
              "        3.26989326e+01, 6.54944305e+01, 1.93264099e+02, 1.57744064e+02,\n",
              "        2.50402115e+02, 2.53505707e+02, 2.54063507e+02, 2.54288177e+02,\n",
              "        2.52249786e+02, 2.07095566e+02, 6.51819563e+00, 2.99776420e-02,\n",
              "        1.50492915e-03, 4.01234657e-10, 3.18993746e-12, 1.02906867e-11],\n",
              "       [1.16951327e-11, 7.59651161e-11, 1.26632624e-08, 6.17693331e-07,\n",
              "        1.94895402e-01, 1.02460747e+01, 2.26714462e+02, 2.54722580e+02,\n",
              "        2.54719879e+02, 2.53278183e+02, 2.04433823e+02, 2.33780273e+02,\n",
              "        2.28526077e+02, 2.52080597e+02, 2.54756943e+02, 2.54758774e+02,\n",
              "        2.53847656e+02, 2.54584930e+02, 2.50401352e+02, 2.46014038e+02,\n",
              "        2.82122784e+01, 4.69793606e+00, 2.70642936e-01, 1.10031362e-03,\n",
              "        5.35430772e-05, 4.76609516e-11, 1.23772637e-07, 3.01600619e-11],\n",
              "       [3.19619708e-09, 4.12451335e-08, 4.88006640e-12, 5.95472841e-07,\n",
              "        5.64913809e-01, 3.14948416e+00, 2.93857956e+01, 1.51320160e+02,\n",
              "        2.54322495e+02, 2.54841537e+02, 2.53021667e+02, 2.38427979e+02,\n",
              "        2.53977783e+02, 2.54813126e+02, 2.54943359e+02, 2.54533112e+02,\n",
              "        2.52459732e+02, 2.22378403e+02, 4.52500801e+01, 2.56484270e+00,\n",
              "        2.99805307e+00, 6.35221303e-02, 1.28553994e-02, 7.45200145e-04,\n",
              "        3.39193957e-06, 2.35628493e-15, 4.20257172e-13, 1.12803072e-12],\n",
              "       [6.65228567e-11, 2.06327247e-10, 6.48612414e-11, 3.20527036e-08,\n",
              "        8.64760805e-05, 1.41146168e-01, 2.27483749e-01, 2.06164932e+00,\n",
              "        1.86877182e+02, 2.51562637e+02, 2.50524811e+02, 2.42818283e+02,\n",
              "        2.42805084e+02, 2.50194168e+02, 2.47938843e+02, 2.35114975e+02,\n",
              "        4.95904274e+01, 3.06839681e+00, 7.52132758e-02, 1.52088255e-02,\n",
              "        1.22587581e-03, 6.94774557e-03, 5.68933228e-06, 2.46415738e-07,\n",
              "        6.81381529e-09, 1.23657893e-08, 2.04670578e-05, 2.94373623e-11],\n",
              "       [3.70469877e-09, 3.71654096e-12, 6.48386726e-13, 2.91682650e-10,\n",
              "        1.27651003e-06, 4.71523196e-01, 2.92481273e-01, 1.85186446e-01,\n",
              "        1.23871958e+00, 8.68636966e-01, 4.40059125e-01, 4.45276946e-01,\n",
              "        2.23370814e+00, 7.20552444e-01, 1.53066158e+00, 1.47973692e+00,\n",
              "        1.07626639e-01, 1.94310828e-03, 8.76148260e-06, 1.59954343e-05,\n",
              "        5.40425660e-08, 4.34189396e-09, 1.43614036e-08, 1.66871087e-06,\n",
              "        2.49683882e-08, 4.46905552e-15, 8.36023872e-12, 9.62074170e-12],\n",
              "       [2.71094303e-09, 2.24572548e-11, 3.49712218e-06, 1.15930795e-15,\n",
              "        6.74823045e-12, 1.49140256e-08, 2.17655142e-05, 3.73128132e-04,\n",
              "        3.26049048e-04, 1.50241700e-04, 6.66219375e-06, 6.58826380e-08,\n",
              "        4.58114269e-10, 9.68461866e-10, 2.22890549e-06, 1.11124136e-04,\n",
              "        1.66011487e-05, 3.16688471e-07, 9.57675297e-07, 3.80169172e-06,\n",
              "        4.60409101e-05, 1.37413535e-05, 7.97288885e-05, 8.76610727e-07,\n",
              "        1.25590968e-10, 1.92780462e-07, 1.26109860e-11, 8.60012203e-13],\n",
              "       [1.09128637e-10, 9.37263179e-13, 3.00124547e-08, 1.34401967e-09,\n",
              "        2.36671221e-11, 1.52988841e-13, 2.04757404e-15, 1.50312603e-15,\n",
              "        6.99475403e-14, 3.53229788e-13, 4.54391552e-17, 3.49788311e-17,\n",
              "        1.62976254e-14, 7.63843063e-14, 6.27680796e-13, 2.15872225e-14,\n",
              "        3.74885456e-09, 2.10567605e-11, 3.58638430e-09, 2.39194463e-11,\n",
              "        4.80593239e-11, 2.80537371e-10, 2.92116369e-04, 2.90945740e-11,\n",
              "        3.78428000e-09, 3.29495493e-11, 2.20560506e-12, 2.82434041e-11],\n",
              "       [1.19176127e-11, 6.74084660e-12, 6.59041571e-11, 1.05951957e-11,\n",
              "        6.63759603e-11, 4.34534122e-16, 1.48215126e-13, 5.70496426e-15,\n",
              "        3.91259209e-16, 2.29297923e-17, 2.30288489e-17, 1.70551629e-13,\n",
              "        7.86211114e-12, 1.45724809e-13, 5.42990259e-15, 2.62011008e-12,\n",
              "        5.86911006e-11, 8.39890657e-11, 6.26605268e-10, 8.13440781e-09,\n",
              "        2.80336536e-08, 2.91692004e-07, 2.02678735e-10, 2.09843839e-12,\n",
              "        5.48078423e-11, 3.88114874e-10, 8.96009287e-13, 1.15222094e-11],\n",
              "       [3.18345975e-11, 1.00209849e-11, 2.02689573e-10, 7.46926446e-13,\n",
              "        8.82901974e-10, 7.98112895e-11, 6.08230220e-12, 6.73526346e-10,\n",
              "        2.19213189e-10, 4.03334354e-12, 7.38165022e-14, 5.34160237e-15,\n",
              "        3.11832428e-13, 1.80780781e-12, 8.43989895e-12, 1.32122757e-10,\n",
              "        2.82874257e-09, 4.44907566e-12, 2.81453868e-06, 3.22013735e-11,\n",
              "        1.01905593e-12, 1.30474000e-05, 2.33357111e-09, 2.63507799e-10,\n",
              "        2.76215520e-13, 2.82769867e-11, 1.22385532e-10, 2.74623050e-11]],\n",
              "      dtype=float32)>"
            ]
          },
          "metadata": {
            "tags": []
          },
          "execution_count": 19
        }
      ]
    },
    {
      "cell_type": "code",
      "metadata": {
        "id": "5Np4rf0m24Om"
      },
      "source": [
        "noise=noise_vals(*(128,30))"
      ],
      "execution_count": null,
      "outputs": []
    },
    {
      "cell_type": "code",
      "metadata": {
        "id": "FOISLxBa24Sb"
      },
      "source": [
        ""
      ],
      "execution_count": null,
      "outputs": []
    },
    {
      "cell_type": "code",
      "metadata": {
        "id": "kyRATycY24WM"
      },
      "source": [
        "import matplotlib.pyplot as plt\n",
        "gen_imgs=tf.reshape(gen_imgs, (-1,28,28))"
      ],
      "execution_count": null,
      "outputs": []
    },
    {
      "cell_type": "code",
      "metadata": {
        "id": "0EbwC_Qdg8Sq"
      },
      "source": [
        ""
      ],
      "execution_count": null,
      "outputs": []
    }
  ]
}